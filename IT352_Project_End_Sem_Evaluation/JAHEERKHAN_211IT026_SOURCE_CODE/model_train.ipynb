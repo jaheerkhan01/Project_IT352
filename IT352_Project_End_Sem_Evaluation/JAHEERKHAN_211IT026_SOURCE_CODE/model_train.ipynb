{
  "cells": [
    {
      "cell_type": "code",
      "execution_count": 1,
      "metadata": {
        "colab": {
          "base_uri": "https://localhost:8080/"
        },
        "id": "uE0dU4hs26pB",
        "outputId": "cfee8f85-08d8-4344-be3d-55e124c25e84"
      },
      "outputs": [
        {
          "name": "stdout",
          "output_type": "stream",
          "text": [
            "Mounted at /content/drive\n"
          ]
        }
      ],
      "source": [
        "# Mounting drive (datasets were saved on the drive)\n",
        "from google.colab import drive\n",
        "drive.mount('/content/drive')\n",
        "\n"
      ]
    },
    {
      "cell_type": "code",
      "execution_count": 2,
      "metadata": {
        "colab": {
          "base_uri": "https://localhost:8080/"
        },
        "id": "JwnTg0wE3Hr5",
        "outputId": "33a4fe0a-e166-4c1f-9570-c4d523a1ba96"
      },
      "outputs": [
        {
          "name": "stdout",
          "output_type": "stream",
          "text": [
            "/content/drive/MyDrive/IT352 Project\n"
          ]
        }
      ],
      "source": [
        "%cd /content/drive/MyDrive/IT352 Project"
      ]
    },
    {
      "cell_type": "code",
      "execution_count": 3,
      "metadata": {
        "colab": {
          "base_uri": "https://localhost:8080/"
        },
        "id": "yPhT-2_03Ype",
        "outputId": "98022562-1cd6-4e0a-cdaa-da24d8967ab9"
      },
      "outputs": [
        {
          "name": "stdout",
          "output_type": "stream",
          "text": [
            "Directory verified: /content/drive/MyDrive/IT352 Project/datasets/cicids2017_grayscale_images\n",
            "Directory verified: /content/drive/MyDrive/IT352 Project/datasets/cicids2017_rgb_images\n"
          ]
        }
      ],
      "source": [
        "import os\n",
        "\n",
        "def verify_directories(*dirs):\n",
        "    for directory in dirs:\n",
        "        if os.path.exists(directory):\n",
        "            print(f\"Directory verified: {directory}\")\n",
        "        else:\n",
        "            print(f\"Directory not found: {directory}\")\n",
        "\n",
        "grayscale_images_path = '/content/drive/MyDrive/IT352 Project/datasets/cicids2017_grayscale_images'\n",
        "rgb_images_path = '/content/drive/MyDrive/IT352 Project/datasets/cicids2017_rgb_images'\n",
        "verify_directories(grayscale_images_path, rgb_images_path)\n"
      ]
    },
    {
      "cell_type": "code",
      "execution_count": 4,
      "metadata": {
        "colab": {
          "base_uri": "https://localhost:8080/"
        },
        "id": "Tc_fE7nm3nh5",
        "outputId": "44d6389a-85c5-4fe8-a161-b29d1d2fb64c"
      },
      "outputs": [
        {
          "name": "stdout",
          "output_type": "stream",
          "text": [
            "Number of grayscale images: 20000\n",
            "Number of RGB images: 20000\n"
          ]
        }
      ],
      "source": [
        "# List the files in each directory\n",
        "grayscale_image_files = [os.path.join(grayscale_images_path, f) for f in os.listdir(grayscale_images_path) if f.endswith('.png')]\n",
        "rgb_image_files = [os.path.join(rgb_images_path, f) for f in os.listdir(rgb_images_path) if f.endswith('.png')]\n",
        "\n",
        "# Just to check if the files are listed\n",
        "print(\"Number of grayscale images:\", len(grayscale_image_files))\n",
        "print(\"Number of RGB images:\", len(rgb_image_files))\n"
      ]
    },
    {
      "cell_type": "code",
      "execution_count": 5,
      "metadata": {
        "id": "eRE1UfFMQfeb"
      },
      "outputs": [],
      "source": [
        "# Adjust these paths according to your dataset location in Google Drive\n",
        "grayscale_images_path = '/content/drive/MyDrive/IT352 Project/datasets/cicids2017_grayscale_images'\n",
        "rgb_images_path = '/content/drive/MyDrive/IT352 Project/datasets/cicids2017_rgb_images'\n"
      ]
    },
    {
      "cell_type": "code",
      "execution_count": 6,
      "metadata": {
        "id": "-zlSJL5y5F5q"
      },
      "outputs": [],
      "source": [
        "import numpy as np\n",
        "import cv2\n",
        "from tensorflow.keras.applications.mobilenet_v3 import preprocess_input\n",
        "from sklearn.model_selection import train_test_split\n",
        "\n",
        "# # # Number of images per class\n",
        "# # num_images_per_class = 10000\n",
        "\n",
        "# # # Generate labels\n",
        "# # labels = np.array([0] * num_images_per_class + [1] * num_images_per_class)\n",
        "\n",
        "# # Function to load and preprocess images\n",
        "# def load_and_preprocess_image(image_path, grayscale=False):\n",
        "#     # Load the image\n",
        "#     img = cv2.imread(image_path, cv2.IMREAD_GRAYSCALE if grayscale else cv2.IMREAD_COLOR)\n",
        "#     # # Resize the image to (64, 64) if it's not already\n",
        "#     # if img.shape[0] != 64 or img.shape[1] != 64:\n",
        "#     #     img = cv2.resize(img, (64, 64))\n",
        "#     # If it's a grayscale image, we need to add an extra dimension to make it (64, 64, 1)\n",
        "#     if grayscale:\n",
        "#         img = img[:, :, np.newaxis]\n",
        "#     # Preprocess the image for MobileNetV3\n",
        "#     img = preprocess_input(img)\n",
        "#     return img\n",
        "\n",
        "# # # Load and preprocess images (whole)\n",
        "# # grayscale_images = np.array([load_and_preprocess_image(path, grayscale=True) for path in grayscale_image_files])\n",
        "# # rgb_images = np.array([load_and_preprocess_image(path) for path in rgb_image_files])\n",
        "\n",
        "# # # Verify shapes\n",
        "# # print(f'Grayscale images shape: {grayscale_images.shape}')\n",
        "# # print(f'RGB images shape: {rgb_images.shape}')\n",
        "# # print(f'Labels shape: {labels.shape}')\n",
        "\n",
        "\n",
        "# subset_size_per_class = 500\n",
        "# # Modify the loading and preprocessing function to limit the number of images\n",
        "# def load_subset_images(image_files, subset_size_per_class):\n",
        "#     # Select 500 from the start of one class and 500 from the start of the next class\n",
        "#     selected_paths = image_files[:subset_size_per_class] + image_files[-subset_size_per_class:]\n",
        "#     # Load and preprocess selected images\n",
        "#     images = np.array([load_and_preprocess_image(path) for path in selected_paths])\n",
        "#     return images\n",
        "\n",
        "# # Apply to both grayscale and RGB images\n",
        "# grayscale_images_subset = load_subset_images(grayscale_image_files, subset_size_per_class)\n",
        "# rgb_images_subset = load_subset_images(rgb_image_files, subset_size_per_class)\n",
        "\n",
        "# # Generate labels for the subset\n",
        "# labels_subset = np.array([0] * subset_size_per_class + [1] * subset_size_per_class)\n",
        "\n",
        "# print(f'Grayscale subset shape: {grayscale_images_subset.shape}')\n",
        "# print(f'RGB subset shape: {rgb_images_subset.shape}')\n",
        "# print(f'Labels subset shape: {labels_subset.shape}')\n",
        "\n"
      ]
    },
    {
      "cell_type": "code",
      "execution_count": 7,
      "metadata": {
        "id": "tOSULVyiCFK4"
      },
      "outputs": [],
      "source": [
        "subset_size_per_class = 2000\n",
        "selected_paths_grayscale = grayscale_image_files[:subset_size_per_class] + grayscale_image_files[-subset_size_per_class:]\n",
        "selected_paths_rgb = rgb_image_files[:subset_size_per_class] + rgb_image_files[-subset_size_per_class:]\n",
        "\n",
        "labels_subset = np.array([0] * subset_size_per_class + [1] * subset_size_per_class)\n",
        "\n",
        "# Split file paths and labels into training and testing sets for both grayscale and RGB images\n",
        "gray_train_files, gray_test_files, y_train_gray, y_test_gray = train_test_split(\n",
        "    selected_paths_grayscale, labels_subset, test_size=0.2, random_state=42, stratify=labels_subset\n",
        ")\n",
        "rgb_train_files, rgb_test_files, y_train_rgb, y_test_rgb = train_test_split(\n",
        "    selected_paths_rgb, labels_subset, test_size=0.2, random_state=42, stratify=labels_subset\n",
        ")\n",
        "\n",
        "# Ensure that y_train_gray and y_train_rgb are identical, as they should be since the images correspond\n",
        "assert np.array_equal(y_train_gray, y_train_rgb), \"Mismatch in training labels between grayscale and RGB datasets.\"\n",
        "\n",
        "# Now we can just use y_train_gray (or y_train_rgb, since they're the same) as y_train\n",
        "y_train = y_train_gray  # or y_train_rgb, both are equivalent\n"
      ]
    },
    {
      "cell_type": "code",
      "execution_count": 10,
      "metadata": {
        "colab": {
          "base_uri": "https://localhost:8080/"
        },
        "id": "SSU20QfF6Bhc",
        "outputId": "8c25a5b7-d391-483b-c650-1745c102e51d"
      },
      "outputs": [
        {
          "name": "stdout",
          "output_type": "stream",
          "text": [
            "Found 3200 validated image filenames belonging to 2 classes.\n",
            "Found 3200 validated image filenames belonging to 2 classes.\n"
          ]
        }
      ],
      "source": [
        "from tensorflow.keras.preprocessing.image import ImageDataGenerator\n",
        "from sklearn.model_selection import train_test_split\n",
        "import pandas as pd\n",
        "\n",
        "# Assuming labels_subset was defined earlier as shown\n",
        "labels_subset_str = np.array(['0'] * subset_size_per_class + ['1'] * subset_size_per_class).astype(str)\n",
        "\n",
        "# Split file paths and labels for grayscale images\n",
        "gray_train_files, gray_test_files, y_train_gray, y_test_gray = train_test_split(\n",
        "    selected_paths_grayscale, labels_subset_str, test_size=0.2, random_state=42, stratify=labels_subset_str\n",
        ")\n",
        "\n",
        "# Split file paths and labels for RGB images\n",
        "rgb_train_files, rgb_test_files, y_train_rgb, y_test_rgb = train_test_split(\n",
        "    selected_paths_rgb, labels_subset_str, test_size=0.2, random_state=42, stratify=labels_subset_str\n",
        ")\n",
        "\n",
        "# Ensure that y_train_gray and y_train_rgb are identical, as they should be since the images correspond\n",
        "assert np.array_equal(y_train_gray, y_train_rgb), \"Mismatch in training labels between grayscale and RGB datasets.\"\n",
        "\n",
        "# Now we can just use y_train_gray (or y_train_rgb, since they're the same) as y_train\n",
        "y_train = y_train_gray  # or y_train_rgb, both are equivalent\n",
        "\n",
        "# Create an ImageDataGenerator for the training data\n",
        "train_datagen = ImageDataGenerator(preprocessing_function=preprocess_input)\n",
        "\n",
        "# Create an ImageDataGenerator for the grayscale images with a custom preprocessing function\n",
        "def grayscale_preprocessor(image):\n",
        "    # Preprocessing for grayscale images\n",
        "    # image = cv2.cvtColor(image, cv2.COLOR_RGB2GRAY)\n",
        "    # image = image[:, :, np.newaxis]\n",
        "    return preprocess_input(image.astype(np.float32))\n",
        "\n",
        "train_datagen_gray = ImageDataGenerator(preprocessing_function=grayscale_preprocessor)\n",
        "\n",
        "# Define the batch size\n",
        "batch_size = 32\n",
        "\n",
        "# Create the training generators\n",
        "train_generator_rgb = train_datagen.flow_from_dataframe(\n",
        "    dataframe=pd.DataFrame({'filename': rgb_train_files, 'class': y_train_rgb}),\n",
        "    directory=None,  # None because the filenames include the full paths\n",
        "    x_col='filename',\n",
        "    y_col='class',\n",
        "    target_size=(64, 64),\n",
        "    color_mode='rgb',\n",
        "    class_mode='binary',\n",
        "    batch_size=batch_size,\n",
        "    shuffle=True,\n",
        "    seed=42\n",
        ")\n",
        "\n",
        "# Assuming `gray_train_files` and `y_train_gray` are already defined\n",
        "train_generator_gray = train_datagen_gray.flow_from_dataframe(\n",
        "    dataframe=pd.DataFrame({'filename': gray_train_files, 'class': y_train_gray}),\n",
        "    directory=None,  # The filenames include the full paths\n",
        "    x_col='filename',\n",
        "    y_col='class',\n",
        "    target_size=(64, 64),\n",
        "    color_mode='grayscale',  # Still load them as grayscale\n",
        "    class_mode='binary',\n",
        "    batch_size=32,\n",
        "    shuffle=True,\n",
        "    seed=42\n",
        ")\n"
      ]
    },
    {
      "cell_type": "code",
      "execution_count": 20,
      "metadata": {
        "colab": {
          "base_uri": "https://localhost:8080/"
        },
        "id": "0DvLkJRL67LB",
        "outputId": "12106f70-6ea3-41fd-c1b9-01cc074e7bc2"
      },
      "outputs": [
        {
          "name": "stderr",
          "output_type": "stream",
          "text": [
            "WARNING:tensorflow:`input_shape` is undefined or non-square, or `rows` is not 224. Weights for input shape (224, 224) will be loaded as the default.\n"
          ]
        },
        {
          "name": "stdout",
          "output_type": "stream",
          "text": [
            "Model: \"sequential_1\"\n",
            "_________________________________________________________________\n",
            " Layer (type)                Output Shape              Param #   \n",
            "=================================================================\n",
            " MobilenetV3small (Function  (None, 2, 2, 576)         939120    \n",
            " al)                                                             \n",
            "                                                                 \n",
            " global_average_pooling2d_3  (None, 576)               0         \n",
            "  (GlobalAveragePooling2D)                                       \n",
            "                                                                 \n",
            " dense_6 (Dense)             (None, 128)               73856     \n",
            "                                                                 \n",
            " dropout_3 (Dropout)         (None, 128)               0         \n",
            "                                                                 \n",
            " dense_7 (Dense)             (None, 1)                 129       \n",
            "                                                                 \n",
            "=================================================================\n",
            "Total params: 1013105 (3.86 MB)\n",
            "Trainable params: 73985 (289.00 KB)\n",
            "Non-trainable params: 939120 (3.58 MB)\n",
            "_________________________________________________________________\n"
          ]
        }
      ],
      "source": [
        "import tensorflow as tf\n",
        "from tensorflow.keras import layers, models\n",
        "from tensorflow.keras.applications import MobileNetV3Small\n",
        "\n",
        "def create_mobilenetv3_model(input_shape=(64, 64, 3)):\n",
        "    # Load MobileNetV3Small with pre-trained ImageNet weights\n",
        "    base_model = MobileNetV3Small(include_top=False, weights='imagenet', input_shape=input_shape)\n",
        "\n",
        "    # Freeze the base model\n",
        "    base_model.trainable = False\n",
        "\n",
        "    # Create a custom top classifier\n",
        "    model = models.Sequential([\n",
        "        base_model,\n",
        "        layers.GlobalAveragePooling2D(),\n",
        "        layers.Dense(128, activation='relu'),\n",
        "        layers.Dropout(0.2),\n",
        "        layers.Dense(1, activation='sigmoid')\n",
        "    ])\n",
        "\n",
        "\n",
        "    return model\n",
        "\n",
        "# Create the model\n",
        "model_rgb = create_mobilenetv3_model()\n",
        "\n",
        "# Compile the model\n",
        "model_rgb.compile(optimizer=tf.keras.optimizers.Adam(learning_rate=0.001),\n",
        "                  loss='binary_crossentropy',\n",
        "                  metrics=['accuracy'])\n",
        "\n",
        "model_rgb.summary()\n"
      ]
    },
    {
      "cell_type": "code",
      "execution_count": 21,
      "metadata": {
        "colab": {
          "base_uri": "https://localhost:8080/"
        },
        "id": "tPTX48P2C6P2",
        "outputId": "d7ba70d9-0354-4f16-ef4c-dcd9522d28c3"
      },
      "outputs": [
        {
          "name": "stderr",
          "output_type": "stream",
          "text": [
            "WARNING:tensorflow:`input_shape` is undefined or non-square, or `rows` is not 224. Weights for input shape (224, 224) will be loaded as the default.\n"
          ]
        },
        {
          "name": "stdout",
          "output_type": "stream",
          "text": [
            "1/1 [==============================] - 2s 2s/step\n",
            "Model: \"Grayscale_MobileNetV3\"\n",
            "_________________________________________________________________\n",
            " Layer (type)                Output Shape              Param #   \n",
            "=================================================================\n",
            " lambda_2 (Lambda)           (None, 64, 64, 3)         0         \n",
            "                                                                 \n",
            " MobilenetV3small (Function  (None, 2, 2, 576)         939120    \n",
            " al)                                                             \n",
            "                                                                 \n",
            " global_average_pooling2d_4  (None, 576)               0         \n",
            "  (GlobalAveragePooling2D)                                       \n",
            "                                                                 \n",
            " dense_8 (Dense)             (None, 128)               73856     \n",
            "                                                                 \n",
            " dropout_4 (Dropout)         (None, 128)               0         \n",
            "                                                                 \n",
            " dense_9 (Dense)             (None, 1)                 129       \n",
            "                                                                 \n",
            "=================================================================\n",
            "Total params: 1013105 (3.86 MB)\n",
            "Trainable params: 73985 (289.00 KB)\n",
            "Non-trainable params: 939120 (3.58 MB)\n",
            "_________________________________________________________________\n"
          ]
        }
      ],
      "source": [
        "def create_mobilenetv3_model_grayscale(input_shape=(64, 64, 1)):\n",
        "    # Load MobileNetV3Small with pre-trained ImageNet weights\n",
        "    # MobileNetV3 expects three-channel inputs; since we're dealing with grayscale images,\n",
        "    # we use a Lambda layer to replicate the single channel across three channels\n",
        "    base_model = MobileNetV3Small(include_top=False, weights='imagenet', input_shape=(64, 64, 3))\n",
        "\n",
        "    # Freeze the base model\n",
        "    base_model.trainable = False\n",
        "\n",
        "    # Create a custom top classifier\n",
        "    model = models.Sequential([\n",
        "        layers.Lambda(lambda x: tf.tile(x, multiples=[1, 1, 1, 3])),  # Replicates the grayscale channel across to simulate RGB\n",
        "        base_model,\n",
        "        layers.GlobalAveragePooling2D(),\n",
        "        layers.Dense(128, activation='relu'),\n",
        "        layers.Dropout(0.2),\n",
        "        layers.Dense(1, activation='sigmoid')\n",
        "    ], name=\"Grayscale_MobileNetV3\")\n",
        "\n",
        "    return model\n",
        "\n",
        "# Create the model for grayscale images\n",
        "model_gray = create_mobilenetv3_model_grayscale()\n",
        "\n",
        "# Compile the model\n",
        "model_gray.compile(optimizer=tf.keras.optimizers.Adam(learning_rate=0.001),\n",
        "                   loss='binary_crossentropy',\n",
        "                   metrics=['accuracy'])\n",
        "\n",
        "dummy_input = np.zeros((1, 64, 64, 1))\n",
        "# Pass the dummy data through the model to build it\n",
        "_ = model_gray.predict(dummy_input)\n",
        "\n",
        "# Now, calling summary should work without errors\n",
        "model_gray.summary()\n"
      ]
    },
    {
      "cell_type": "code",
      "execution_count": 22,
      "metadata": {
        "id": "JFtI0NaqFnWu"
      },
      "outputs": [],
      "source": [
        "from tensorflow.keras.callbacks import EarlyStopping, ModelCheckpoint\n",
        "\n",
        "# EarlyStopping callback to stop training if no improvement is seen\n",
        "early_stopping = EarlyStopping(\n",
        "    monitor='val_loss',\n",
        "    patience=5,  # Number of epochs with no improvement after which training will be stopped\n",
        "    restore_best_weights=True  # Restore model weights from the epoch with the best value of the monitored quantity\n",
        ")\n",
        "\n",
        "# ModelCheckpoint callback to save the Keras model or model weights at some frequency\n",
        "model_checkpoint_rgb = ModelCheckpoint(\n",
        "    filepath='./best_model_rgb.h5',  # Path to save the model file\n",
        "    monitor='val_accuracy',\n",
        "    save_best_only=True,  # Save only the best model\n",
        "    mode='max'  # Maximize validation accuracy\n",
        ")\n",
        "\n",
        "model_checkpoint_gray = ModelCheckpoint(\n",
        "    filepath='./best_model_gray.h5',  # Adjust the path as needed\n",
        "    monitor='val_accuracy',\n",
        "    save_best_only=True,\n",
        "    mode='max'\n",
        ")\n"
      ]
    },
    {
      "cell_type": "code",
      "execution_count": 23,
      "metadata": {
        "colab": {
          "base_uri": "https://localhost:8080/"
        },
        "id": "mQQwsgpV_Oma",
        "outputId": "e2884126-5be3-4ae9-8882-81e87c3570e9"
      },
      "outputs": [
        {
          "name": "stdout",
          "output_type": "stream",
          "text": [
            "Epoch 1/50\n",
            "100/100 [==============================] - ETA: 0s - loss: 0.4737 - accuracy: 0.7734"
          ]
        },
        {
          "name": "stderr",
          "output_type": "stream",
          "text": [
            "/usr/local/lib/python3.10/dist-packages/keras/src/engine/training.py:3103: UserWarning: You are saving your model as an HDF5 file via `model.save()`. This file format is considered legacy. We recommend using instead the native Keras format, e.g. `model.save('my_model.keras')`.\n",
            "  saving_api.save_model(\n"
          ]
        },
        {
          "name": "stdout",
          "output_type": "stream",
          "text": [
            "\b\b\b\b\b\b\b\b\b\b\b\b\b\b\b\b\b\b\b\b\b\b\b\b\b\b\b\b\b\b\b\b\b\b\b\b\b\b\b\b\b\b\b\b\b\b\b\b\b\b\b\b\b\b\b\b\b\b\b\b\b\b\b\b\b\b\b\b\b\b\b\b\b\b\b\b\b\b\b\b\b\b\b\b\r100/100 [==============================] - 767s 8s/step - loss: 0.4737 - accuracy: 0.7734 - val_loss: 0.3441 - val_accuracy: 0.8400\n",
            "Epoch 2/50\n",
            "100/100 [==============================] - 38s 378ms/step - loss: 0.3174 - accuracy: 0.8700 - val_loss: 0.2625 - val_accuracy: 0.8978\n",
            "Epoch 3/50\n",
            "100/100 [==============================] - 39s 396ms/step - loss: 0.2582 - accuracy: 0.8950 - val_loss: 0.2530 - val_accuracy: 0.8916\n",
            "Epoch 4/50\n",
            "100/100 [==============================] - 40s 397ms/step - loss: 0.2363 - accuracy: 0.9034 - val_loss: 0.2039 - val_accuracy: 0.9206\n",
            "Epoch 5/50\n",
            "100/100 [==============================] - 61s 615ms/step - loss: 0.2136 - accuracy: 0.9169 - val_loss: 0.2093 - val_accuracy: 0.9141\n",
            "Epoch 6/50\n",
            "100/100 [==============================] - 35s 349ms/step - loss: 0.2133 - accuracy: 0.9181 - val_loss: 0.1726 - val_accuracy: 0.9359\n",
            "Epoch 7/50\n",
            "100/100 [==============================] - 35s 351ms/step - loss: 0.1861 - accuracy: 0.9309 - val_loss: 0.1651 - val_accuracy: 0.9394\n",
            "Epoch 8/50\n",
            "100/100 [==============================] - 28s 282ms/step - loss: 0.1803 - accuracy: 0.9312 - val_loss: 0.1490 - val_accuracy: 0.9488\n",
            "Epoch 9/50\n",
            "100/100 [==============================] - 34s 345ms/step - loss: 0.1677 - accuracy: 0.9344 - val_loss: 0.1431 - val_accuracy: 0.9475\n",
            "Epoch 10/50\n",
            "100/100 [==============================] - 35s 350ms/step - loss: 0.1626 - accuracy: 0.9372 - val_loss: 0.1314 - val_accuracy: 0.9516\n",
            "Epoch 11/50\n",
            "100/100 [==============================] - 34s 346ms/step - loss: 0.1498 - accuracy: 0.9431 - val_loss: 0.1333 - val_accuracy: 0.9513\n",
            "Epoch 12/50\n",
            "100/100 [==============================] - 27s 268ms/step - loss: 0.1575 - accuracy: 0.9391 - val_loss: 0.1454 - val_accuracy: 0.9441\n",
            "Epoch 13/50\n",
            "100/100 [==============================] - 34s 346ms/step - loss: 0.1397 - accuracy: 0.9469 - val_loss: 0.1150 - val_accuracy: 0.9600\n",
            "Epoch 14/50\n",
            "100/100 [==============================] - 34s 344ms/step - loss: 0.1378 - accuracy: 0.9516 - val_loss: 0.1301 - val_accuracy: 0.9491\n",
            "Epoch 15/50\n",
            "100/100 [==============================] - 27s 269ms/step - loss: 0.1346 - accuracy: 0.9475 - val_loss: 0.1045 - val_accuracy: 0.9628\n",
            "Epoch 16/50\n",
            "100/100 [==============================] - 26s 262ms/step - loss: 0.1240 - accuracy: 0.9541 - val_loss: 0.1083 - val_accuracy: 0.9594\n",
            "Epoch 17/50\n",
            "100/100 [==============================] - 35s 347ms/step - loss: 0.1219 - accuracy: 0.9588 - val_loss: 0.0959 - val_accuracy: 0.9681\n",
            "Epoch 18/50\n",
            "100/100 [==============================] - 28s 277ms/step - loss: 0.1174 - accuracy: 0.9581 - val_loss: 0.0982 - val_accuracy: 0.9625\n",
            "Epoch 19/50\n",
            "100/100 [==============================] - 27s 274ms/step - loss: 0.1116 - accuracy: 0.9569 - val_loss: 0.1017 - val_accuracy: 0.9631\n",
            "Epoch 20/50\n",
            "100/100 [==============================] - 34s 346ms/step - loss: 0.1075 - accuracy: 0.9609 - val_loss: 0.0866 - val_accuracy: 0.9669\n",
            "Epoch 21/50\n",
            "100/100 [==============================] - 35s 350ms/step - loss: 0.1036 - accuracy: 0.9625 - val_loss: 0.0802 - val_accuracy: 0.9731\n",
            "Epoch 22/50\n",
            "100/100 [==============================] - 35s 352ms/step - loss: 0.1083 - accuracy: 0.9581 - val_loss: 0.0837 - val_accuracy: 0.9697\n",
            "Epoch 23/50\n",
            "100/100 [==============================] - 26s 261ms/step - loss: 0.1045 - accuracy: 0.9606 - val_loss: 0.0983 - val_accuracy: 0.9647\n",
            "Epoch 24/50\n",
            "100/100 [==============================] - 34s 342ms/step - loss: 0.0968 - accuracy: 0.9631 - val_loss: 0.0795 - val_accuracy: 0.9716\n",
            "Epoch 25/50\n",
            "100/100 [==============================] - 35s 348ms/step - loss: 0.0931 - accuracy: 0.9678 - val_loss: 0.0773 - val_accuracy: 0.9762\n",
            "Epoch 26/50\n",
            "100/100 [==============================] - 35s 353ms/step - loss: 0.0886 - accuracy: 0.9684 - val_loss: 0.0726 - val_accuracy: 0.9759\n",
            "Epoch 27/50\n",
            "100/100 [==============================] - 34s 341ms/step - loss: 0.0840 - accuracy: 0.9703 - val_loss: 0.0706 - val_accuracy: 0.9725\n",
            "Epoch 28/50\n",
            "100/100 [==============================] - 35s 349ms/step - loss: 0.0802 - accuracy: 0.9712 - val_loss: 0.0647 - val_accuracy: 0.9816\n",
            "Epoch 29/50\n",
            "100/100 [==============================] - 34s 344ms/step - loss: 0.0816 - accuracy: 0.9697 - val_loss: 0.0622 - val_accuracy: 0.9806\n",
            "Epoch 30/50\n",
            "100/100 [==============================] - 35s 348ms/step - loss: 0.0786 - accuracy: 0.9722 - val_loss: 0.0542 - val_accuracy: 0.9822\n",
            "Epoch 31/50\n",
            "100/100 [==============================] - 34s 345ms/step - loss: 0.0725 - accuracy: 0.9750 - val_loss: 0.0585 - val_accuracy: 0.9822\n",
            "Epoch 32/50\n",
            "100/100 [==============================] - 26s 266ms/step - loss: 0.0728 - accuracy: 0.9762 - val_loss: 0.0584 - val_accuracy: 0.9803\n",
            "Epoch 33/50\n",
            "100/100 [==============================] - 34s 341ms/step - loss: 0.0779 - accuracy: 0.9719 - val_loss: 0.0593 - val_accuracy: 0.9816\n",
            "Epoch 34/50\n",
            "100/100 [==============================] - 34s 342ms/step - loss: 0.0706 - accuracy: 0.9744 - val_loss: 0.0627 - val_accuracy: 0.9781\n",
            "Epoch 35/50\n",
            "100/100 [==============================] - 35s 348ms/step - loss: 0.0694 - accuracy: 0.9750 - val_loss: 0.0533 - val_accuracy: 0.9837\n",
            "Epoch 36/50\n",
            "100/100 [==============================] - 27s 268ms/step - loss: 0.0640 - accuracy: 0.9778 - val_loss: 0.0618 - val_accuracy: 0.9759\n",
            "Epoch 37/50\n",
            "100/100 [==============================] - 36s 365ms/step - loss: 0.0648 - accuracy: 0.9791 - val_loss: 0.0492 - val_accuracy: 0.9866\n",
            "Epoch 38/50\n",
            "100/100 [==============================] - 26s 262ms/step - loss: 0.0624 - accuracy: 0.9784 - val_loss: 0.0551 - val_accuracy: 0.9812\n",
            "Epoch 39/50\n",
            "100/100 [==============================] - 34s 344ms/step - loss: 0.0645 - accuracy: 0.9753 - val_loss: 0.0510 - val_accuracy: 0.9831\n",
            "Epoch 40/50\n",
            "100/100 [==============================] - 34s 343ms/step - loss: 0.0665 - accuracy: 0.9769 - val_loss: 0.0434 - val_accuracy: 0.9862\n",
            "Epoch 41/50\n",
            "100/100 [==============================] - 34s 345ms/step - loss: 0.0619 - accuracy: 0.9791 - val_loss: 0.0655 - val_accuracy: 0.9753\n",
            "Epoch 42/50\n",
            "100/100 [==============================] - 26s 264ms/step - loss: 0.0672 - accuracy: 0.9731 - val_loss: 0.0450 - val_accuracy: 0.9837\n",
            "Epoch 43/50\n",
            "100/100 [==============================] - 35s 349ms/step - loss: 0.0561 - accuracy: 0.9784 - val_loss: 0.0442 - val_accuracy: 0.9884\n",
            "Epoch 44/50\n",
            "100/100 [==============================] - 35s 351ms/step - loss: 0.0649 - accuracy: 0.9753 - val_loss: 0.0396 - val_accuracy: 0.9897\n",
            "Epoch 45/50\n",
            "100/100 [==============================] - 27s 267ms/step - loss: 0.0535 - accuracy: 0.9837 - val_loss: 0.0369 - val_accuracy: 0.9897\n",
            "Epoch 46/50\n",
            "100/100 [==============================] - 34s 341ms/step - loss: 0.0520 - accuracy: 0.9819 - val_loss: 0.0673 - val_accuracy: 0.9728\n",
            "Epoch 47/50\n",
            "100/100 [==============================] - 26s 266ms/step - loss: 0.0479 - accuracy: 0.9841 - val_loss: 0.0519 - val_accuracy: 0.9806\n",
            "Epoch 48/50\n",
            "100/100 [==============================] - 34s 342ms/step - loss: 0.0564 - accuracy: 0.9800 - val_loss: 0.0384 - val_accuracy: 0.9866\n",
            "Epoch 49/50\n",
            "100/100 [==============================] - 27s 269ms/step - loss: 0.0499 - accuracy: 0.9834 - val_loss: 0.0441 - val_accuracy: 0.9856\n",
            "Epoch 50/50\n",
            "100/100 [==============================] - 35s 350ms/step - loss: 0.0550 - accuracy: 0.9791 - val_loss: 0.0329 - val_accuracy: 0.9919\n"
          ]
        }
      ],
      "source": [
        "# history_rgb = model_rgb.fit(\n",
        "#     train_generator_rgb,\n",
        "#     epochs=10,  # Adjust the number of epochs based on your requirements and observations\n",
        "#     validation_data=train_generator_rgb,  # Replace with a validation generator if you have one\n",
        "# )\n",
        "\n",
        "history_rgb = model_rgb.fit(\n",
        "    train_generator_rgb,\n",
        "    epochs=50,  # Adjust based on your observations and requirements\n",
        "    validation_data=train_generator_rgb,  # Ideally, replace with a validation generator\n",
        "    callbacks=[early_stopping, model_checkpoint_rgb]  # Add callbacks here\n",
        ")\n"
      ]
    },
    {
      "cell_type": "code",
      "execution_count": 24,
      "metadata": {
        "colab": {
          "base_uri": "https://localhost:8080/"
        },
        "id": "e1jxoYepGTSU",
        "outputId": "08c20f2b-3192-45db-ff56-cfd5c8399d93"
      },
      "outputs": [
        {
          "name": "stdout",
          "output_type": "stream",
          "text": [
            "Epoch 1/50\n",
            "100/100 [==============================] - 35s 302ms/step - loss: 0.4230 - accuracy: 0.7887 - val_loss: 0.3077 - val_accuracy: 0.8606\n",
            "Epoch 2/50\n",
            "100/100 [==============================] - 30s 299ms/step - loss: 0.2709 - accuracy: 0.8841 - val_loss: 0.2214 - val_accuracy: 0.9156\n",
            "Epoch 3/50\n",
            "100/100 [==============================] - 28s 285ms/step - loss: 0.2236 - accuracy: 0.9162 - val_loss: 0.1958 - val_accuracy: 0.9234\n",
            "Epoch 4/50\n",
            "100/100 [==============================] - 35s 355ms/step - loss: 0.2063 - accuracy: 0.9209 - val_loss: 0.1765 - val_accuracy: 0.9306\n",
            "Epoch 5/50\n",
            "100/100 [==============================] - 36s 358ms/step - loss: 0.1840 - accuracy: 0.9300 - val_loss: 0.1653 - val_accuracy: 0.9372\n",
            "Epoch 6/50\n",
            "100/100 [==============================] - 36s 365ms/step - loss: 0.1912 - accuracy: 0.9250 - val_loss: 0.1596 - val_accuracy: 0.9397\n",
            "Epoch 7/50\n",
            "100/100 [==============================] - 35s 347ms/step - loss: 0.1770 - accuracy: 0.9319 - val_loss: 0.1656 - val_accuracy: 0.9344\n",
            "Epoch 8/50\n",
            "100/100 [==============================] - 28s 280ms/step - loss: 0.1737 - accuracy: 0.9281 - val_loss: 0.1464 - val_accuracy: 0.9416\n",
            "Epoch 9/50\n",
            "100/100 [==============================] - 35s 349ms/step - loss: 0.1556 - accuracy: 0.9381 - val_loss: 0.1740 - val_accuracy: 0.9316\n",
            "Epoch 10/50\n",
            "100/100 [==============================] - 35s 349ms/step - loss: 0.1570 - accuracy: 0.9384 - val_loss: 0.1494 - val_accuracy: 0.9375\n",
            "Epoch 11/50\n",
            "100/100 [==============================] - 28s 282ms/step - loss: 0.1680 - accuracy: 0.9347 - val_loss: 0.1436 - val_accuracy: 0.9403\n",
            "Epoch 12/50\n",
            "100/100 [==============================] - 29s 287ms/step - loss: 0.1597 - accuracy: 0.9319 - val_loss: 0.1398 - val_accuracy: 0.9438\n",
            "Epoch 13/50\n",
            "100/100 [==============================] - 28s 282ms/step - loss: 0.1565 - accuracy: 0.9359 - val_loss: 0.1328 - val_accuracy: 0.9478\n",
            "Epoch 14/50\n",
            "100/100 [==============================] - 29s 289ms/step - loss: 0.1512 - accuracy: 0.9384 - val_loss: 0.1357 - val_accuracy: 0.9478\n",
            "Epoch 15/50\n",
            "100/100 [==============================] - 35s 349ms/step - loss: 0.1535 - accuracy: 0.9400 - val_loss: 0.1380 - val_accuracy: 0.9419\n",
            "Epoch 16/50\n",
            "100/100 [==============================] - 35s 347ms/step - loss: 0.1413 - accuracy: 0.9428 - val_loss: 0.1347 - val_accuracy: 0.9447\n",
            "Epoch 17/50\n",
            "100/100 [==============================] - 35s 347ms/step - loss: 0.1470 - accuracy: 0.9381 - val_loss: 0.1388 - val_accuracy: 0.9441\n",
            "Epoch 18/50\n",
            "100/100 [==============================] - 35s 347ms/step - loss: 0.1483 - accuracy: 0.9378 - val_loss: 0.1720 - val_accuracy: 0.9319\n"
          ]
        }
      ],
      "source": [
        "history_gray = model_gray.fit(\n",
        "    train_generator_gray,\n",
        "    epochs=50,  # Adjust based on your observations and requirements\n",
        "    validation_data=train_generator_gray,  # Ideally, replace with a validation generator\n",
        "    callbacks=[early_stopping, model_checkpoint_gray]  # Add callbacks here\n",
        ")\n"
      ]
    },
    {
      "cell_type": "code",
      "execution_count": 14,
      "metadata": {
        "colab": {
          "base_uri": "https://localhost:8080/"
        },
        "id": "WkMs8Lj_Ucbf",
        "outputId": "d454ae13-a70f-4204-ce58-c18be5e3c2ba"
      },
      "outputs": [
        {
          "name": "stderr",
          "output_type": "stream",
          "text": [
            "WARNING:tensorflow:`input_shape` is undefined or non-square, or `rows` is not 224. Weights for input shape (224, 224) will be loaded as the default.\n"
          ]
        }
      ],
      "source": [
        "# model_gray = create_mobilenetv3_model_grayscale()\n",
        "\n",
        "# model_gray.compile(optimizer='adam',\n",
        "#                    loss='binary_crossentropy',\n",
        "#                    metrics=['accuracy'])\n"
      ]
    },
    {
      "cell_type": "code",
      "execution_count": 25,
      "metadata": {
        "colab": {
          "base_uri": "https://localhost:8080/",
          "height": 1000
        },
        "id": "-tcRZjVXFNKm",
        "outputId": "d4d0dff5-5133-4a10-f5c1-d47e4f933f41"
      },
      "outputs": [
        {
          "data": {
            "image/png": "[encoded data removed]",
            "text/plain": [
              "<Figure size 640x480 with 1 Axes>"
            ]
          },
          "metadata": {},
          "output_type": "display_data"
        },
        {
          "data": {
            "image/png": "[encoded data removed]",
            "text/plain": [
              "<Figure size 640x480 with 1 Axes>"
            ]
          },
          "metadata": {},
          "output_type": "display_data"
        },
        {
          "data": {
            "image/png": "[encoded data removed]",
            "text/plain": [
              "<Figure size 640x480 with 1 Axes>"
            ]
          },
          "metadata": {},
          "output_type": "display_data"
        },
        {
          "data": {
            "image/png": "[encoded data removed]",
            "text/plain": [
              "<Figure size 640x480 with 1 Axes>"
            ]
          },
          "metadata": {},
          "output_type": "display_data"
        }
      ],
      "source": [
        "import matplotlib.pyplot as plt\n",
        "\n",
        "def plot_training_history(history):\n",
        "    acc = history.history['accuracy']\n",
        "    val_acc = history.history['val_accuracy']\n",
        "    loss = history.history['loss']\n",
        "    val_loss = history.history['val_loss']\n",
        "\n",
        "    epochs = range(len(acc))\n",
        "\n",
        "    plt.plot(epochs, acc, 'r', label='Training accuracy')\n",
        "    plt.plot(epochs, val_acc, 'b', label='Validation accuracy')\n",
        "    plt.title('Training and validation accuracy')\n",
        "    plt.legend()\n",
        "\n",
        "    plt.figure()\n",
        "\n",
        "    plt.plot(epochs, loss, 'r', label='Training Loss')\n",
        "    plt.plot(epochs, val_loss, 'b', label='Validation Loss')\n",
        "    plt.title('Training and validation loss')\n",
        "    plt.legend()\n",
        "\n",
        "    plt.show()\n",
        "\n",
        "# Plot the training history for the RGB model\n",
        "plot_training_history(history_rgb)\n",
        "\n",
        "# Similarly, plot the training history for the Grayscale model after its training\n",
        "plot_training_history(history_gray)\n"
      ]
    },
    {
      "cell_type": "code",
      "execution_count": null,
      "metadata": {
        "id": "2NwlGlXw-j7P"
      },
      "outputs": [],
      "source": [
        "import os\n",
        "\n",
        "model_dir = '/content/drive/MyDrive/IT352 Project/models/'\n",
        "if not os.path.exists(model_dir):\n",
        "    os.makedirs(model_dir)\n",
        "\n",
        "\n",
        "# Save the RGB model\n",
        "model_rgb.save('/content/drive/MyDrive/IT352 Project/models/best_model_rgb.h5')\n",
        "\n",
        "# Save the Grayscale model\n",
        "model_gray.save('/content/drive/MyDrive/IT352 Project/models/best_model_gray.h5')\n"
      ]
    },
    {
      "cell_type": "code",
      "execution_count": null,
      "metadata": {
        "id": "XXwLFdglMcQh"
      },
      "outputs": [],
      "source": []
    },
    {
      "cell_type": "code",
      "execution_count": 27,
      "metadata": {
        "id": "oPadUR8fLfgK"
      },
      "outputs": [],
      "source": [
        "from tensorflow.keras.models import load_model\n",
        "\n",
        "# Update these paths to where you've saved your models\n",
        "model_rgb_path = '/content/drive/MyDrive/IT352 Project/best_model_rgb.h5'\n",
        "model_gray_path = '/content/drive/MyDrive/IT352 Project/best_model_gray.h5'\n",
        "\n",
        "model_rgb = load_model(model_rgb_path)\n",
        "model_gray = load_model(model_gray_path)\n"
      ]
    },
    {
      "cell_type": "code",
      "execution_count": 31,
      "metadata": {
        "id": "PZeejAahLhOS"
      },
      "outputs": [],
      "source": [
        "def ensemble_predictions(rgb_pred, gray_pred, rgb_weight=0.98, gray_weight=0.94):\n",
        "    total_weight = rgb_weight + gray_weight\n",
        "    normalized_rgb_weight = rgb_weight / total_weight\n",
        "    normalized_gray_weight = gray_weight / total_weight\n",
        "\n",
        "    combined_pred = (rgb_pred * normalized_rgb_weight) + (gray_pred * normalized_gray_weight)\n",
        "    combined_class = (combined_pred > 0.5).astype(int)\n",
        "    return combined_class\n"
      ]
    },
    {
      "cell_type": "code",
      "execution_count": 32,
      "metadata": {
        "id": "Cf86HvkrLnVt"
      },
      "outputs": [],
      "source": [
        "from tensorflow.keras.preprocessing import image\n",
        "import numpy as np\n",
        "\n",
        "# Function to load an image file as a numpy array\n",
        "def load_image(image_path, grayscale=False):\n",
        "    if grayscale:\n",
        "        # Load the image, add an extra dimension to represent the single channel\n",
        "        img = image.load_img(image_path, color_mode='grayscale', target_size=(64, 64))\n",
        "        img_array = image.img_to_array(img)\n",
        "        img_array = np.expand_dims(img_array, axis=0)  # Add batch dimension\n",
        "    else:\n",
        "        img = image.load_img(image_path, target_size=(64, 64))\n",
        "        img_array = image.img_to_array(img)\n",
        "        img_array = np.expand_dims(img_array, axis=0)  # Add batch dimension\n",
        "    return img_array\n",
        "\n",
        "# Assuming you have two image paths\n",
        "rgb_image_path = '/content/drive/MyDrive/IT352 Project/datasets/cicids2017_rgb_images/rgb_image_11247.png'  # Update this path\n",
        "gray_image_path = '/content/drive/MyDrive/IT352 Project/datasets/cicids2017_grayscale_images/grayscale_image_11247.png'  # Update this path\n",
        "\n",
        "\n",
        "# Load and preprocess the images\n",
        "rgb_img = load_image(rgb_image_path, grayscale=False)\n",
        "gray_img = load_image(gray_image_path, grayscale=True)\n"
      ]
    },
    {
      "cell_type": "code",
      "execution_count": 33,
      "metadata": {
        "colab": {
          "base_uri": "https://localhost:8080/"
        },
        "id": "avjVcf_vLtih",
        "outputId": "1138313f-5f01-4e8d-a7b2-fdef87dc7a30"
      },
      "outputs": [
        {
          "name": "stdout",
          "output_type": "stream",
          "text": [
            "1/1 [==============================] - 0s 26ms/step\n",
            "1/1 [==============================] - 0s 24ms/step\n",
            "Combined Prediction: [[0]]\n"
          ]
        }
      ],
      "source": [
        "rgb_pred = model_rgb.predict(rgb_img)\n",
        "gray_pred = model_gray.predict(gray_img)\n",
        "\n",
        "# Assuming your models output probabilities and you're dealing with binary classification\n",
        "# Adjust the decision threshold and weights as necessary\n",
        "combined_class = ensemble_predictions(rgb_pred, gray_pred)\n",
        "\n",
        "print(\"Combined Prediction:\", combined_class)\n"
      ]
    },
    {
      "cell_type": "code",
      "execution_count": null,
      "metadata": {
        "id": "mPjMFdMFWiCg"
      },
      "outputs": [],
      "source": []
    }
  ],
  "metadata": {
    "colab": {
      "provenance": []
    },
    "kernelspec": {
      "display_name": "Python 3",
      "name": "python3"
    },
    "language_info": {
      "name": "python"
    }
  },
  "nbformat": 4,
  "nbformat_minor": 0
}
